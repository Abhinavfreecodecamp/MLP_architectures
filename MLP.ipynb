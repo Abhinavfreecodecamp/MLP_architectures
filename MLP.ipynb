{
 "cells": [
  {
   "cell_type": "markdown",
   "metadata": {},
   "source": [
    "# MLP Using Tensorflow"
   ]
  },
  {
   "cell_type": "code",
   "execution_count": 79,
   "metadata": {},
   "outputs": [
    {
     "name": "stdout",
     "output_type": "stream",
     "text": [
      "WARNING:tensorflow:From <ipython-input-79-5bbe2439cd64>:3: read_data_sets (from tensorflow.contrib.learn.python.learn.datasets.mnist) is deprecated and will be removed in a future version.\n",
      "Instructions for updating:\n",
      "Please use alternatives such as official/mnist/dataset.py from tensorflow/models.\n",
      "WARNING:tensorflow:From E:\\anaconda\\lib\\site-packages\\tensorflow\\contrib\\learn\\python\\learn\\datasets\\mnist.py:260: maybe_download (from tensorflow.contrib.learn.python.learn.datasets.base) is deprecated and will be removed in a future version.\n",
      "Instructions for updating:\n",
      "Please write your own downloading logic.\n",
      "WARNING:tensorflow:From E:\\anaconda\\lib\\site-packages\\tensorflow\\contrib\\learn\\python\\learn\\datasets\\mnist.py:262: extract_images (from tensorflow.contrib.learn.python.learn.datasets.mnist) is deprecated and will be removed in a future version.\n",
      "Instructions for updating:\n",
      "Please use tf.data to implement this functionality.\n",
      "Extracting MNIST_data/train-images-idx3-ubyte.gz\n",
      "WARNING:tensorflow:From E:\\anaconda\\lib\\site-packages\\tensorflow\\contrib\\learn\\python\\learn\\datasets\\mnist.py:267: extract_labels (from tensorflow.contrib.learn.python.learn.datasets.mnist) is deprecated and will be removed in a future version.\n",
      "Instructions for updating:\n",
      "Please use tf.data to implement this functionality.\n",
      "Extracting MNIST_data/train-labels-idx1-ubyte.gz\n",
      "WARNING:tensorflow:From E:\\anaconda\\lib\\site-packages\\tensorflow\\contrib\\learn\\python\\learn\\datasets\\mnist.py:110: dense_to_one_hot (from tensorflow.contrib.learn.python.learn.datasets.mnist) is deprecated and will be removed in a future version.\n",
      "Instructions for updating:\n",
      "Please use tf.one_hot on tensors.\n",
      "Extracting MNIST_data/t10k-images-idx3-ubyte.gz\n",
      "Extracting MNIST_data/t10k-labels-idx1-ubyte.gz\n",
      "WARNING:tensorflow:From E:\\anaconda\\lib\\site-packages\\tensorflow\\contrib\\learn\\python\\learn\\datasets\\mnist.py:290: DataSet.__init__ (from tensorflow.contrib.learn.python.learn.datasets.mnist) is deprecated and will be removed in a future version.\n",
      "Instructions for updating:\n",
      "Please use alternatives such as official/mnist/dataset.py from tensorflow/models.\n"
     ]
    }
   ],
   "source": [
    "from tensorflow.examples.tutorials.mnist import input_data\n",
    "import tensorflow as tf\n",
    "mnist = input_data.read_data_sets(\"MNIST_data/\", one_hot=True)"
   ]
  },
  {
   "cell_type": "code",
   "execution_count": 12,
   "metadata": {},
   "outputs": [
    {
     "data": {
      "text/plain": [
       "<tensorflow.contrib.learn.python.learn.datasets.mnist.DataSet at 0x16bf0550>"
      ]
     },
     "execution_count": 12,
     "metadata": {},
     "output_type": "execute_result"
    }
   ],
   "source": [
    "mnist.validation"
   ]
  },
  {
   "cell_type": "code",
   "execution_count": 80,
   "metadata": {
    "collapsed": true
   },
   "outputs": [],
   "source": [
    "import matplotlib.pyplot as plt\n",
    "import numpy as np\n",
    "import time\n",
    "# https://gist.github.com/greydanus/f6eee59eaf1d90fcb3b534a25362cea4\n",
    "# https://stackoverflow.com/a/14434334\n",
    "# this function is used to update the plots for each epoch and error\n",
    "def plt_dynamic(x, y, y_1, ax, ticks,title, colors=['b']):\n",
    "    ax.plot(x, y, 'b', label=\"Train Loss\")\n",
    "    ax.plot(x, y_1, 'r', label=\"validation Loss\")\n",
    "    if len(x)==1:\n",
    "        plt.legend()\n",
    "        plt.title(title)\n",
    "    plt.yticks(ticks)\n",
    "    fig.canvas.draw()"
   ]
  },
  {
   "cell_type": "markdown",
   "metadata": {},
   "source": [
    "## Model 1"
   ]
  },
  {
   "cell_type": "code",
   "execution_count": 14,
   "metadata": {
    "collapsed": true
   },
   "outputs": [],
   "source": [
    "# Network Parameters\n",
    "n_hidden_1 = 10 #1st hidden of 10 neurons\n",
    "n_hidden_2 = 5  #2nd hidden layer of 5 neurons  \n",
    "n_hidden_3 = 3  #3rd hiden layer of 3 neurons\n",
    "n_input = 784 # MNIST data input (img shape: 28*28)\n",
    "n_classes = 10 # MNIST total classes (0-9 digits)"
   ]
  },
  {
   "cell_type": "code",
   "execution_count": 15,
   "metadata": {
    "collapsed": true
   },
   "outputs": [],
   "source": [
    "x = tf.placeholder(tf.float32, [None, 784]) # Input place holders\n",
    "y_ = tf.placeholder(tf.float32, [None, 10]) # output placeholders"
   ]
  },
  {
   "cell_type": "code",
   "execution_count": 16,
   "metadata": {
    "collapsed": true
   },
   "outputs": [],
   "source": [
    "keep_prob = tf.placeholder(tf.float32)\n",
    "# keep_prob_input: we will be using these placeholders when we use dropouts, while training model\n",
    "keep_prob_input = tf.placeholder(tf.float32)"
   ]
  },
  {
   "cell_type": "code",
   "execution_count": 28,
   "metadata": {
    "collapsed": true
   },
   "outputs": [],
   "source": [
    "#initializing weights\n",
    "weights_m1 = {\n",
    "    'h1': tf.Variable(tf.random_normal([n_input, n_hidden_1],stddev=0.062, mean=0)), # 784x10\n",
    "    'h2': tf.Variable(tf.random_normal([n_hidden_1, n_hidden_2],stddev=0.125, mean=0)),# 10x5\n",
    "    'h3': tf.Variable(tf.random_normal([n_hidden_2, n_hidden_3],stddev=0.15, mean=0)),# 5x3\n",
    "    'out': tf.Variable(tf.random_normal([n_hidden_2, n_classes],stddev=0.120, mean=0)) # 3x10\n",
    "}\n",
    "biases_m1 = {\n",
    "    'b1': tf.Variable(tf.random_normal([n_hidden_1])),             \n",
    "    'b2': tf.Variable(tf.random_normal([n_hidden_2])),\n",
    "    'b3': tf.Variable(tf.random_normal([n_hidden_3])),            \n",
    "    'out': tf.Variable(tf.random_normal([n_classes]))              \n",
    "}"
   ]
  },
  {
   "cell_type": "code",
   "execution_count": 29,
   "metadata": {
    "collapsed": true
   },
   "outputs": [],
   "source": [
    "# Parameters\n",
    "training_epochs = 50\n",
    "learning_rate = 0.001\n",
    "batch_size = 100\n",
    "display_step = 1"
   ]
  },
  {
   "cell_type": "markdown",
   "metadata": {},
   "source": [
    "### mlp"
   ]
  },
  {
   "cell_type": "code",
   "execution_count": 32,
   "metadata": {
    "collapsed": true
   },
   "outputs": [],
   "source": [
    "def multilayer_perceptron(x, weights, biases):\n",
    "    # Use tf.matmul instead of \"*\" because tf.matmul can change it's dimensions on the fly (broadcast)\n",
    "    print( 'input layer:', x.get_shape(), 'W[h1]:', weights['h1'].get_shape(), 'b[h1]:', biases['b1'].get_shape())        \n",
    "    layer_1 = tf.add(tf.matmul(x, weights['h1']), biases['b1']) #(x*weights['h1']) + biases['b1']\n",
    "    \n",
    "    # https://www.tensorflow.org/api_docs/python/tf/nn/moments\n",
    "    # Calculate the mean and variance of x.\n",
    "    batch_mean_1, batch_var_1 = tf.nn.moments(layer_1,[0])\n",
    "    \n",
    "    scale_1 = tf.Variable(tf.ones([n_hidden_1]))\n",
    "    beta_1 = tf.Variable(tf.zeros([n_hidden_1]))\n",
    "    \n",
    "    # https://www.tensorflow.org/api_docs/python/tf/nn/batch_normalization\n",
    "    layer_1 = tf.nn.batch_normalization(layer_1, batch_mean_1, batch_var_1, beta_1, scale_1, 1e-05)\n",
    "    layer_1 = tf.nn.relu(layer_1)\n",
    "    \n",
    "    print( 'layer_1:', layer_1.get_shape(), 'W[h2]:', weights['h2'].get_shape(), 'b[h2]:', biases['b2'].get_shape())        \n",
    "    \n",
    "    #####################################################################################\n",
    "    \n",
    "    # Hidden layer with Sigmoid activation and batch normalization\n",
    "    layer_2 = tf.add(tf.matmul(layer_1, weights['h2']), biases['b2']) # (layer_1 * weights['h2']) + biases['b2'] \n",
    "    \n",
    "    # https://www.tensorflow.org/api_docs/python/tf/nn/moments\n",
    "    # Calculate the mean and variance of x.\n",
    "    batch_mean_2, batch_var_2 = tf.nn.moments(layer_2, [0])\n",
    "    \n",
    "    scale_2 = tf.Variable(tf.ones([n_hidden_2]))\n",
    "    beta_2 = tf.Variable(tf.zeros([n_hidden_2]))\n",
    "    \n",
    "    layer_2 = tf.nn.batch_normalization(layer_2, batch_mean_2, batch_var_2, beta_2, scale_2, 1e-05)\n",
    "    layer_2 = tf.nn.relu(layer_2)       \n",
    "    \n",
    "    ''' # 3rd hidden layer\n",
    "    layer_3 = tf.add(tf.matmul(layer_2,weights['h3']),biases['b3'])\n",
    "    layer_3 = tf.nn.relu(layer_3)\n",
    "    print( 'layer_3:', layer_3.get_shape(), 'W[out]:', weights['out'].get_shape(), 'out:', biases['out'].get_shape())''' \n",
    "    # Output layer with Sigmoid activation\n",
    "    out_layer = tf.add(tf.matmul(layer_2, weights['out']),biases['out']) # (layer_2 * weights['out']) + biases['out']    \n",
    "    out_layer = tf.nn.sigmoid(out_layer)\n",
    "    print('out_layer:',out_layer.get_shape())\n",
    "\n",
    "    return out_layer"
   ]
  },
  {
   "cell_type": "code",
   "execution_count": 43,
   "metadata": {
    "scrolled": true
   },
   "outputs": [
    {
     "name": "stdout",
     "output_type": "stream",
     "text": [
      "input layer: (?, 784) W[h1]: (784, 10) b[h1]: (10,)\n",
      "layer_1: (?, 10) W[h2]: (10, 5) b[h2]: (5,)\n",
      "out_layer: (?, 10)\n",
      "Epoch: 0001 train cost=2.058341488 validation cost=2.047094597\n",
      "Epoch: 0002 train cost=1.769682509 validation cost=1.759185216\n",
      "Epoch: 0003 train cost=1.683008502 validation cost=1.674171483\n",
      "Epoch: 0004 train cost=1.644916170 validation cost=1.637619695\n",
      "Epoch: 0005 train cost=1.614707451 validation cost=1.606438848\n",
      "Epoch: 0006 train cost=1.591430515 validation cost=1.582609592\n",
      "Epoch: 0007 train cost=1.578015844 validation cost=1.570723064\n",
      "Epoch: 0008 train cost=1.570288101 validation cost=1.562967835\n",
      "Epoch: 0009 train cost=1.564080526 validation cost=1.556545127\n",
      "Epoch: 0010 train cost=1.559246577 validation cost=1.552447548\n",
      "Epoch: 0011 train cost=1.556734112 validation cost=1.549638916\n",
      "Epoch: 0012 train cost=1.552937692 validation cost=1.546841142\n",
      "Epoch: 0013 train cost=1.550883962 validation cost=1.545827006\n",
      "Epoch: 0014 train cost=1.549223979 validation cost=1.544394056\n",
      "Epoch: 0015 train cost=1.548717013 validation cost=1.543350307\n",
      "Epoch: 0016 train cost=1.547378219 validation cost=1.542049023\n",
      "Epoch: 0017 train cost=1.545848682 validation cost=1.541078900\n",
      "Epoch: 0018 train cost=1.544861419 validation cost=1.540930640\n",
      "Epoch: 0019 train cost=1.543922159 validation cost=1.540408204\n",
      "Epoch: 0020 train cost=1.543705902 validation cost=1.539534299\n",
      "Epoch: 0021 train cost=1.542428393 validation cost=1.539121279\n",
      "Epoch: 0022 train cost=1.542477648 validation cost=1.539505077\n",
      "Epoch: 0023 train cost=1.541876149 validation cost=1.539979962\n",
      "Epoch: 0024 train cost=1.541075219 validation cost=1.538324368\n",
      "Epoch: 0025 train cost=1.537998948 validation cost=1.533480931\n",
      "Epoch: 0026 train cost=1.535341677 validation cost=1.530714976\n",
      "Epoch: 0027 train cost=1.534895808 validation cost=1.529942439\n",
      "Epoch: 0028 train cost=1.533998652 validation cost=1.528788216\n",
      "Epoch: 0029 train cost=1.532791439 validation cost=1.528114170\n",
      "Epoch: 0030 train cost=1.532500478 validation cost=1.528183722\n",
      "Epoch: 0031 train cost=1.532233201 validation cost=1.528477122\n",
      "Epoch: 0032 train cost=1.531545755 validation cost=1.528424170\n",
      "Epoch: 0033 train cost=1.530698051 validation cost=1.527974672\n",
      "Epoch: 0034 train cost=1.530230515 validation cost=1.527480675\n",
      "Epoch: 0035 train cost=1.531582540 validation cost=1.527625070\n",
      "Epoch: 0036 train cost=1.530759499 validation cost=1.527928848\n",
      "Epoch: 0037 train cost=1.529324329 validation cost=1.527670489\n",
      "Epoch: 0038 train cost=1.529653504 validation cost=1.527978433\n",
      "Epoch: 0039 train cost=1.529840983 validation cost=1.528696168\n",
      "Epoch: 0040 train cost=1.528811644 validation cost=1.528072208\n",
      "Epoch: 0041 train cost=1.528608452 validation cost=1.527238058\n",
      "Epoch: 0042 train cost=1.528881596 validation cost=1.528476343\n",
      "Epoch: 0043 train cost=1.528737078 validation cost=1.528400460\n",
      "Epoch: 0044 train cost=1.527700239 validation cost=1.528120499\n",
      "Epoch: 0045 train cost=1.527759219 validation cost=1.527514987\n",
      "Epoch: 0046 train cost=1.527904184 validation cost=1.527737442\n",
      "Epoch: 0047 train cost=1.527982929 validation cost=1.526993103\n",
      "Epoch: 0048 train cost=1.527637491 validation cost=1.527065688\n",
      "Epoch: 0049 train cost=1.528874044 validation cost=1.527412550\n",
      "Epoch: 0050 train cost=1.526699074 validation cost=1.528202780\n",
      "Accuracy: 92.18999743461609\n"
     ]
    }
   ],
   "source": [
    "# Since we are using sigmoid activations in hiden layers we will be using weights that are initalized as weights_sgd\n",
    "y_sgd = multilayer_perceptron(x, weights_m1, biases_m1)\n",
    "\n",
    "# https://www.tensorflow.org/api_docs/python/tf/nn/softmax_cross_entropy_with_logits\n",
    "cost_sgd = tf.reduce_mean(tf.nn.softmax_cross_entropy_with_logits(logits = y_sgd, labels = y_))\n",
    "\n",
    "# https://github.com/amitmac/Question-Answering/issues/2\n",
    "# there are many optimizers available: https://www.tensorflow.org/versions/r1.2/api_guides/python/train#Optimizers \n",
    "optimizer_adam = tf.train.AdamOptimizer(learning_rate=learning_rate).minimize(cost_sgd)\n",
    "optimizer_sgdc = tf.train.GradientDescentOptimizer(learning_rate=learning_rate).minimize(cost_sgd)\n",
    "\n",
    "with tf.Session() as sess:\n",
    "    tf.global_variables_initializer().run()\n",
    "    fig,ax = plt.subplots(1,1)\n",
    "    ax.set_xlabel('epoch') ; ax.set_ylabel('Soft Max Cross Entropy loss')\n",
    "    xs, ytrs, ytes = [], [], []\n",
    "    for epoch in range(training_epochs):\n",
    "        train_avg_cost = 0.\n",
    "        validation_avg_cost = 0.\n",
    "        total_batch = int(mnist.train.num_examples/batch_size)\n",
    "\n",
    "        # Loop over all batches\n",
    "        for i in range(total_batch):\n",
    "            batch_xs, batch_ys = mnist.train.next_batch(batch_size)\n",
    "            # here we use AdamOptimizer\n",
    "            _, c, w = sess.run([optimizer_adam, cost_sgd,weights_m1], feed_dict={x: batch_xs, y_: batch_ys})\n",
    "            train_avg_cost += c / total_batch\n",
    "            c = sess.run(cost_sgd, feed_dict={x: mnist.validation.images, y_: mnist.validation.labels})\n",
    "            validation_avg_cost += c / total_batch\n",
    "\n",
    "        xs.append(epoch)\n",
    "        ytrs.append(train_avg_cost)\n",
    "        ytes.append(validation_avg_cost)\n",
    "        plt_dynamic(xs, ytrs, ytes, ax, np.arange(1.3, 1.8, step=0.04),'train-validation loss curve') \n",
    "\n",
    "        if epoch%display_step == 0:\n",
    "            print(\"Epoch:\", '%04d' % (epoch+1), \"train cost={:.9f}\".format(train_avg_cost), \"validation cost={:.9f}\".format(validation_avg_cost))\n",
    "    plt_dynamic(xs, ytrs, ytes, ax, np.arange(1.3, 1.8, step=0.04), \"input-sigmoid(512)-sigmoid(128)-sigmoid(output)-AdamOptimizer\")\n",
    "\n",
    "    # we are calculating the final accuracy on the test data\n",
    "    correct_prediction = tf.equal(tf.argmax(y_sgd,1), tf.argmax(y_,1))\n",
    "    accuracy = tf.reduce_mean(tf.cast(correct_prediction, tf.float32))\n",
    "    print(\"Accuracy:\",100* accuracy.eval({x: mnist.test.images, y_: mnist.test.labels}))"
   ]
  },
  {
   "cell_type": "code",
   "execution_count": 56,
   "metadata": {},
   "outputs": [
    {
     "data": {
      "image/png": "[encoded data removed]",
      "text/plain": [
       "<matplotlib.figure.Figure at 0x1c5f1a90>"
      ]
     },
     "metadata": {},
     "output_type": "display_data"
    }
   ],
   "source": [
    "plt.show()"
   ]
  },
  {
   "cell_type": "markdown",
   "metadata": {},
   "source": [
    "## Model 2nd"
   ]
  },
  {
   "cell_type": "code",
   "execution_count": 81,
   "metadata": {
    "collapsed": true
   },
   "outputs": [],
   "source": [
    "# Network Parameters\n",
    "n_hidden_1 = 64 #1st hidden of 10 neurons\n",
    "n_hidden_2 = 128  #2nd hidden layer of 5 neurons  \n",
    "n_hidden_3 = 256  #3rd hiden layer of 3 neurons\n",
    "n_input = 784 # MNIST data input (img shape: 28*28)\n",
    "n_classes = 10 # MNIST total classes (0-9 digits)"
   ]
  },
  {
   "cell_type": "code",
   "execution_count": 82,
   "metadata": {
    "collapsed": true
   },
   "outputs": [],
   "source": [
    "x = tf.placeholder(tf.float32, [None, 784]) # Input place holders\n",
    "y_ = tf.placeholder(tf.float32, [None, 10]) # output placeholders"
   ]
  },
  {
   "cell_type": "code",
   "execution_count": 83,
   "metadata": {
    "collapsed": true
   },
   "outputs": [],
   "source": [
    "#initializing weights\n",
    "weights_m2 = {\n",
    "    'h1': tf.Variable(tf.random_normal([n_input, n_hidden_1],stddev=0.062, mean=0)), # 784x10\n",
    "    'h2': tf.Variable(tf.random_normal([n_hidden_1, n_hidden_2],stddev=0.125, mean=0)),# 10x5\n",
    "    'h3': tf.Variable(tf.random_normal([n_hidden_2, n_hidden_3],stddev=0.15, mean=0)),# 5x3\n",
    "    'out': tf.Variable(tf.random_normal([n_hidden_2, n_classes],stddev=0.120, mean=0)) # 3x10\n",
    "}\n",
    "biases_m2 = {\n",
    "    'b1': tf.Variable(tf.random_normal([n_hidden_1])),             \n",
    "    'b2': tf.Variable(tf.random_normal([n_hidden_2])),\n",
    "    'b3': tf.Variable(tf.random_normal([n_hidden_3])),            \n",
    "    'out': tf.Variable(tf.random_normal([n_classes]))              \n",
    "}"
   ]
  },
  {
   "cell_type": "code",
   "execution_count": 84,
   "metadata": {
    "collapsed": true
   },
   "outputs": [],
   "source": [
    "# Parameters\n",
    "training_epochs = 20\n",
    "learning_rate = 0.01\n",
    "batch_size = 100\n",
    "display_step = 1"
   ]
  },
  {
   "cell_type": "code",
   "execution_count": 85,
   "metadata": {
    "collapsed": true
   },
   "outputs": [],
   "source": [
    "def multilayer_perceptron_m2(x, weights, biases):\n",
    "    # Use tf.matmul instead of \"*\" because tf.matmul can change it's dimensions on the fly (broadcast)\n",
    "    print( 'input layer:', x.get_shape(), 'W[h1]:', weights['h1'].get_shape(), 'b[h1]:', biases['b1'].get_shape())        \n",
    "    \n",
    "    # 1st hidden layer\n",
    "    layer_1 = tf.add(tf.matmul(x, weights['h1']), biases['b1']) #(x*weights['h1']) + biases['b1']\n",
    "    layer_1 = tf.nn.relu(layer_1)\n",
    "    print( 'layer_1:', layer_1.get_shape(), 'W[h2]:', weights['h2'].get_shape(), 'b[h2]:', biases['b2'].get_shape())        \n",
    "    \n",
    "    # 2nd hidden layer\n",
    "    layer_2 = tf.add(tf.matmul(layer_1, weights['h2']), biases['b2']) # (layer_1 * weights['h2']) + biases['b2'] \n",
    "    layer_2 = tf.nn.relu(layer_2)\n",
    "    print( 'layer_2:', layer_2.get_shape(), 'W[h3]:', weights['h3'].get_shape(), 'b3:', biases['b3'].get_shape())        \n",
    "    \n",
    "   \n",
    "    # Output layer with Sigmoid activation\n",
    "    out_layer = tf.add(tf.matmul(layer_2, weights['out']),biases['out']) # (layer_2 * weights['out']) + biases['out']    \n",
    "    out_layer = tf.nn.sigmoid(out_layer)\n",
    "    print('out_layer:',out_layer.get_shape())\n",
    "\n",
    "    return out_layer"
   ]
  },
  {
   "cell_type": "code",
   "execution_count": 86,
   "metadata": {},
   "outputs": [
    {
     "name": "stdout",
     "output_type": "stream",
     "text": [
      "input layer: (?, 784) W[h1]: (784, 64) b[h1]: (64,)\n",
      "layer_1: (?, 64) W[h2]: (64, 128) b[h2]: (128,)\n",
      "layer_2: (?, 128) W[h3]: (128, 256) b3: (256,)\n",
      "out_layer: (?, 10)\n",
      "WARNING:tensorflow:From <ipython-input-86-c0966fd2eeb8>:5: softmax_cross_entropy_with_logits (from tensorflow.python.ops.nn_ops) is deprecated and will be removed in a future version.\n",
      "Instructions for updating:\n",
      "\n",
      "Future major versions of TensorFlow will allow gradients to flow\n",
      "into the labels input on backprop by default.\n",
      "\n",
      "See @{tf.nn.softmax_cross_entropy_with_logits_v2}.\n",
      "\n",
      "Epoch: 0001 train cost=1.546658220 validation cost=1.540322604\n",
      "Epoch: 0002 train cost=1.513556030 validation cost=1.511166275\n",
      "Epoch: 0003 train cost=1.510580486 validation cost=1.508326968\n",
      "Epoch: 0004 train cost=1.510266760 validation cost=1.508078824\n",
      "Epoch: 0005 train cost=1.509316734 validation cost=1.508741886\n",
      "Epoch: 0006 train cost=1.511796340 validation cost=1.511506006\n",
      "Epoch: 0007 train cost=1.514264390 validation cost=1.512828231\n",
      "Epoch: 0008 train cost=1.515448716 validation cost=1.513093511\n",
      "Epoch: 0009 train cost=1.515797505 validation cost=1.512888551\n",
      "Epoch: 0010 train cost=1.515408931 validation cost=1.513281651\n",
      "Epoch: 0011 train cost=1.512876738 validation cost=1.513692966\n",
      "Epoch: 0012 train cost=1.522333219 validation cost=1.520406048\n",
      "Epoch: 0013 train cost=1.519561448 validation cost=1.518564679\n",
      "Epoch: 0014 train cost=1.521307706 validation cost=1.520525154\n",
      "Epoch: 0015 train cost=1.521521321 validation cost=1.521472780\n",
      "Epoch: 0016 train cost=1.520142742 validation cost=1.519130132\n",
      "Epoch: 0017 train cost=1.520613058 validation cost=1.519256744\n",
      "Epoch: 0018 train cost=1.526164960 validation cost=1.524692447\n",
      "Epoch: 0019 train cost=1.522850939 validation cost=1.521364911\n",
      "Epoch: 0020 train cost=1.533808359 validation cost=1.532069868\n",
      "Accuracy: 92.03000068664551\n"
     ]
    }
   ],
   "source": [
    "# Since we are using sigmoid activations in hiden layers we will be using weights that are initalized as weights_sgd\n",
    "y_sgd = multilayer_perceptron_m2(x, weights_m2, biases_m2)\n",
    "\n",
    "# https://www.tensorflow.org/api_docs/python/tf/nn/softmax_cross_entropy_with_logits\n",
    "cost_sgd = tf.reduce_mean(tf.nn.softmax_cross_entropy_with_logits(logits = y_sgd, labels = y_))\n",
    "\n",
    "# https://github.com/amitmac/Question-Answering/issues/2\n",
    "# there are many optimizers available: https://www.tensorflow.org/versions/r1.2/api_guides/python/train#Optimizers \n",
    "optimizer_adam = tf.train.AdamOptimizer(learning_rate=learning_rate).minimize(cost_sgd)\n",
    "optimizer_sgdc = tf.train.GradientDescentOptimizer(learning_rate=learning_rate).minimize(cost_sgd)\n",
    "\n",
    "with tf.Session() as sess:\n",
    "    tf.global_variables_initializer().run()\n",
    "    fig,ax = plt.subplots(1,1)\n",
    "    ax.set_xlabel('epoch') ; ax.set_ylabel('Soft Max Cross Entropy loss')\n",
    "    xs, ytrs, ytes = [], [], []\n",
    "    for epoch in range(training_epochs):\n",
    "        train_avg_cost = 0.\n",
    "        validation_avg_cost = 0.\n",
    "        total_batch = int(mnist.train.num_examples/batch_size)\n",
    "\n",
    "        # Loop over all batches\n",
    "        for i in range(total_batch):\n",
    "            batch_xs, batch_ys = mnist.train.next_batch(batch_size)\n",
    "\n",
    "            # here we use AdamOptimizer\n",
    "            _, c, w = sess.run([optimizer_adam, cost_sgd,weights_m2], feed_dict={x: batch_xs, y_: batch_ys})\n",
    "            train_avg_cost += c / total_batch\n",
    "            c = sess.run(cost_sgd, feed_dict={x: mnist.validation.images, y_: mnist.validation.labels})\n",
    "            validation_avg_cost += c / total_batch\n",
    "\n",
    "        xs.append(epoch)\n",
    "        ytrs.append(train_avg_cost)\n",
    "        ytes.append(validation_avg_cost)\n",
    "        plt_dynamic(xs, ytrs, ytes, ax, np.arange(1.3, 1.8, step=0.04), \"train-validation error\")\n",
    "\n",
    "        if epoch%display_step == 0:\n",
    "            print(\"Epoch:\", '%04d' % (epoch+1), \"train cost={:.9f}\".format(train_avg_cost), \"validation cost={:.9f}\".format(validation_avg_cost))\n",
    "    plt_dynamic(xs, ytrs, ytes, ax, np.arange(1.3, 1.8, step=0.04), \"input-sigmoid(512)-sigmoid(128)-sigmoid(output)-AdamOptimizer\")\n",
    "\n",
    "    # we are calculating the final accuracy on the test data\n",
    "    correct_prediction = tf.equal(tf.argmax(y_sgd,1), tf.argmax(y_,1))\n",
    "    accuracy = tf.reduce_mean(tf.cast(correct_prediction, tf.float32))\n",
    "    print(\"Accuracy:\",100* accuracy.eval({x: mnist.test.images, y_: mnist.test.labels}))"
   ]
  },
  {
   "cell_type": "code",
   "execution_count": 87,
   "metadata": {},
   "outputs": [
    {
     "data": {
      "image/png": "[encoded data removed]",
      "text/plain": [
       "<matplotlib.figure.Figure at 0x3e816128>"
      ]
     },
     "metadata": {},
     "output_type": "display_data"
    }
   ],
   "source": [
    "plt.show()"
   ]
  },
  {
   "cell_type": "markdown",
   "metadata": {},
   "source": [
    "## Model 3"
   ]
  },
  {
   "cell_type": "code",
   "execution_count": 61,
   "metadata": {},
   "outputs": [
    {
     "name": "stdout",
     "output_type": "stream",
     "text": [
      "input layer: (?, 784) W[h1]: (784, 7) b[h1]: (7,)\n",
      "layer_1: (?, 7) W[h2]: (7, 4) b[h2]: (4,)\n",
      "layer_2: (?, 4) W[h3]: (4, 3) b3: (3,)\n",
      "layer_3: (?, 3) W[out]: (3, 10) out: (10,)\n",
      "out_layer: (?, 10)\n",
      "Epoch: 0001 train cost=205.865863812 validation cost=205.252850754\n",
      "Epoch: 0002 train cost=205.865863812 validation cost=205.252850754\n",
      "Epoch: 0003 train cost=205.865863812 validation cost=205.252850754\n",
      "Epoch: 0004 train cost=205.865863812 validation cost=205.252850754\n",
      "Epoch: 0005 train cost=205.865863812 validation cost=205.252850754\n",
      "Epoch: 0006 train cost=205.865863812 validation cost=205.252850754\n",
      "Epoch: 0007 train cost=205.865863812 validation cost=205.252850754\n",
      "Epoch: 0008 train cost=205.865863812 validation cost=205.252850754\n",
      "Epoch: 0009 train cost=205.865863812 validation cost=205.252850754\n",
      "Epoch: 0010 train cost=205.865863812 validation cost=205.252850754\n",
      "Epoch: 0011 train cost=205.865863812 validation cost=205.252850754\n",
      "Epoch: 0012 train cost=205.865863812 validation cost=205.252850754\n",
      "Epoch: 0013 train cost=205.865863812 validation cost=205.252850754\n",
      "Epoch: 0014 train cost=205.865863812 validation cost=205.252850754\n",
      "Epoch: 0015 train cost=205.865863812 validation cost=205.252850754\n",
      "Epoch: 0016 train cost=205.865863812 validation cost=205.252850754\n",
      "Epoch: 0017 train cost=205.865863812 validation cost=205.252850754\n",
      "Epoch: 0018 train cost=205.865863812 validation cost=205.252850754\n",
      "Epoch: 0019 train cost=205.865863812 validation cost=205.252850754\n",
      "Epoch: 0020 train cost=205.865863812 validation cost=205.252850754\n",
      "Epoch: 0021 train cost=205.865863812 validation cost=205.252850754\n",
      "Epoch: 0022 train cost=205.865863812 validation cost=205.252850754\n",
      "Epoch: 0023 train cost=205.865863812 validation cost=205.252850754\n",
      "Epoch: 0024 train cost=205.865863812 validation cost=205.252850754\n",
      "Epoch: 0025 train cost=205.865863812 validation cost=205.252850754\n",
      "Epoch: 0026 train cost=205.865863812 validation cost=205.252850754\n",
      "Epoch: 0027 train cost=205.865863812 validation cost=205.252850754\n",
      "Epoch: 0028 train cost=205.865863812 validation cost=205.252850754\n",
      "Epoch: 0029 train cost=205.865863812 validation cost=205.252850754\n",
      "Epoch: 0030 train cost=205.865863812 validation cost=205.252850754\n",
      "Epoch: 0031 train cost=205.865863812 validation cost=205.252850754\n",
      "Epoch: 0032 train cost=205.865863812 validation cost=205.252850754\n",
      "Epoch: 0033 train cost=205.865863812 validation cost=205.252850754\n",
      "Epoch: 0034 train cost=205.865863812 validation cost=205.252850754\n",
      "Epoch: 0035 train cost=205.865863812 validation cost=205.252850754\n",
      "Epoch: 0036 train cost=205.865863812 validation cost=205.252850754\n",
      "Epoch: 0037 train cost=205.865863812 validation cost=205.252850754\n",
      "Epoch: 0038 train cost=205.865863812 validation cost=205.252850754\n",
      "Epoch: 0039 train cost=205.865863812 validation cost=205.252850754\n",
      "Epoch: 0040 train cost=205.865863812 validation cost=205.252850754\n",
      "Epoch: 0041 train cost=205.865863812 validation cost=205.252850754\n",
      "Epoch: 0042 train cost=205.865863812 validation cost=205.252850754\n",
      "Epoch: 0043 train cost=205.865863812 validation cost=205.252850754\n",
      "Epoch: 0044 train cost=205.865863812 validation cost=205.252850754\n",
      "Epoch: 0045 train cost=205.865863812 validation cost=205.252850754\n",
      "Epoch: 0046 train cost=205.865863812 validation cost=205.252850754\n",
      "Epoch: 0047 train cost=205.865863812 validation cost=205.252850754\n",
      "Epoch: 0048 train cost=205.865863812 validation cost=205.252850754\n",
      "Epoch: 0049 train cost=205.865863812 validation cost=205.252850754\n",
      "Epoch: 0050 train cost=205.865863812 validation cost=205.252850754\n",
      "Accuracy: 68.98999810218811\n"
     ]
    }
   ],
   "source": [
    "# Network Parameters\n",
    "n_hidden_1 = 7 #1st hidden of 10 neurons\n",
    "n_hidden_2 = 4  #2nd hidden layer of 5 neurons  \n",
    "n_hidden_3 = 3  #3rd hiden layer of 3 neurons\n",
    "n_input = 784 # MNIST data input (img shape: 28*28)\n",
    "n_classes = 10 # MNIST total classes (0-9 digits)\n",
    "\n",
    "x = tf.placeholder(tf.float32, [None, 784]) # Input place holders\n",
    "y_ = tf.placeholder(tf.float32, [None, 10]) # output placeholders\n",
    "\n",
    "\n",
    "#initializing weights\n",
    "weights_m3 = {\n",
    "    'h1': tf.Variable(tf.random_normal([n_input, n_hidden_1],stddev=0.062, mean=0)), # 784x10\n",
    "    'h2': tf.Variable(tf.random_normal([n_hidden_1, n_hidden_2],stddev=0.125, mean=0)),# 10x5\n",
    "    'h3': tf.Variable(tf.random_normal([n_hidden_2, n_hidden_3],stddev=0.15, mean=0)),# 5x3\n",
    "    'out': tf.Variable(tf.random_normal([n_hidden_3, n_classes],stddev=0.120, mean=0)) # 3x10\n",
    "}\n",
    "biases_m3 = {\n",
    "    'b1': tf.Variable(tf.random_normal([n_hidden_1])),             \n",
    "    'b2': tf.Variable(tf.random_normal([n_hidden_2])),\n",
    "    'b3': tf.Variable(tf.random_normal([n_hidden_3])),            \n",
    "    'out': tf.Variable(tf.random_normal([n_classes]))              \n",
    "}\n",
    "\n",
    "# Parameters\n",
    "training_epochs = 50\n",
    "learning_rate = 0.01\n",
    "batch_size = 100\n",
    "display_step = 1\n",
    "\n",
    "def multilayer_perceptron_m3(x, weights, biases):\n",
    "    # Use tf.matmul instead of \"*\" because tf.matmul can change it's dimensions on the fly (broadcast)\n",
    "    print( 'input layer:', x.get_shape(), 'W[h1]:', weights['h1'].get_shape(), 'b[h1]:', biases['b1'].get_shape())        \n",
    "    \n",
    "    # 1st hidden layer\n",
    "    layer_1 = tf.add(tf.matmul(x, weights['h1']), biases['b1']) #(x*weights['h1']) + biases['b1']\n",
    "    layer_1 = tf.nn.relu(layer_1)\n",
    "    print( 'layer_1:', layer_1.get_shape(), 'W[h2]:', weights['h2'].get_shape(), 'b[h2]:', biases['b2'].get_shape())        \n",
    "    \n",
    "    # 2nd hidden layer\n",
    "    layer_2 = tf.add(tf.matmul(layer_1, weights['h2']), biases['b2']) # (layer_1 * weights['h2']) + biases['b2'] \n",
    "    layer_2 = tf.nn.relu(layer_2)\n",
    "    print( 'layer_2:', layer_2.get_shape(), 'W[h3]:', weights['h3'].get_shape(), 'b3:', biases['b3'].get_shape())        \n",
    "    \n",
    "    # 3rd hidden layer\n",
    "    layer_3 = tf.add(tf.matmul(layer_2,weights['h3']),biases['b3'])\n",
    "    layer_3 = tf.nn.relu(layer_3)\n",
    "    print( 'layer_3:', layer_3.get_shape(), 'W[out]:', weights['out'].get_shape(), 'out:', biases['out'].get_shape())   \n",
    "    # Output layer with Sigmoid activation\n",
    "    out_layer = tf.add(tf.matmul(layer_3, weights['out']),biases['out']) # (layer_2 * weights['out']) + biases['out']    \n",
    "    out_layer = tf.nn.sigmoid(out_layer)\n",
    "    print('out_layer:',out_layer.get_shape())\n",
    "\n",
    "    return out_layer\n",
    "\n",
    "\n",
    "# Since we are using sigmoid activations in hiden layers we will be using weights that are initalized as weights_sgd\n",
    "y_sgd = multilayer_perceptron_m3(x, weights_m3, biases_m3)\n",
    "\n",
    "# https://www.tensorflow.org/api_docs/python/tf/nn/softmax_cross_entropy_with_logits\n",
    "cost_sgd = tf.reduce_mean(tf.nn.softmax_cross_entropy_with_logits(logits = y_sgd, labels = y_))\n",
    "\n",
    "# https://github.com/amitmac/Question-Answering/issues/2\n",
    "# there are many optimizers available: https://www.tensorflow.org/versions/r1.2/api_guides/python/train#Optimizers \n",
    "optimizer_adam = tf.train.AdamOptimizer(learning_rate=learning_rate).minimize(cost_sgd)\n",
    "optimizer_sgdc = tf.train.GradientDescentOptimizer(learning_rate=learning_rate).minimize(cost_sgd)\n",
    "\n",
    "with tf.Session() as sess:\n",
    "    tf.global_variables_initializer().run()\n",
    "    fig,ax = plt.subplots(1,1)\n",
    "    ax.set_xlabel('epoch') ; ax.set_ylabel('Soft Max Cross Entropy loss')\n",
    "    xs, ytrs, ytes = [], [], []\n",
    "    for epoch in range(training_epochs):\n",
    "        train_avg_cost_adam = 0.\n",
    "        validation_avg_cost_adam = 0.\n",
    "        total_batch = int(mnist.train.num_examples/batch_size)\n",
    "\n",
    "        # Loop over all batches\n",
    "        for i in range(total_batch):\n",
    "            batch_xs, batch_ys = mnist.train.next_batch(batch_size)\n",
    "            _, c, w = sess.run([optimizer_adam, cost_sgd,weights_m2], feed_dict={x: batch_xs, y_: batch_ys})\n",
    "            train_avg_cost_adam += c / total_batch\n",
    "            c = sess.run(cost_sgd, feed_dict={x: mnist.validation.images, y_: mnist.validation.labels})\n",
    "            validation_avg_cost_adam += c / total_batch\n",
    "\n",
    "        xs.append(epoch)\n",
    "        ytrs.append(train_avg_cost)\n",
    "        ytes.append(validation_avg_cost)\n",
    "        plt_dynamic(xs, ytrs, ytes, ax, np.arange(1.3, 1.8, step=0.04), \"train validation error\")\n",
    "\n",
    "        if epoch%display_step == 0:\n",
    "            print(\"Epoch:\", '%04d' % (epoch+1), \"train cost={:.9f}\".format(train_avg_cost), \"validation cost={:.9f}\".format(validation_avg_cost))\n",
    "    plt_dynamic(xs, ytrs, ytes, ax, np.arange(1.3, 1.8, step=0.04), \"input-sigmoid(512)-sigmoid(128)-sigmoid(output)-AdamOptimizer\")\n",
    "\n",
    "    # we are calculating the final accuracy on the test data\n",
    "    correct_prediction = tf.equal(tf.argmax(y_sgd,1), tf.argmax(y_,1))\n",
    "    accuracy = tf.reduce_mean(tf.cast(correct_prediction, tf.float32))\n",
    "    print(\"Accuracy:\",100* accuracy.eval({x: mnist.test.images, y_: mnist.test.labels}))"
   ]
  },
  {
   "cell_type": "code",
   "execution_count": 45,
   "metadata": {},
   "outputs": [
    {
     "data": {
      "image/png": "[encoded data removed]",
      "text/plain": [
       "<matplotlib.figure.Figure at 0x1bbbc5f8>"
      ]
     },
     "metadata": {},
     "output_type": "display_data"
    }
   ],
   "source": [
    "plt.show()"
   ]
  },
  {
   "cell_type": "markdown",
   "metadata": {},
   "source": [
    "# MLP using keras"
   ]
  },
  {
   "cell_type": "code",
   "execution_count": 65,
   "metadata": {},
   "outputs": [],
   "source": [
    "import keras\n",
    "from keras.datasets import mnist\n",
    "from keras.models import Sequential\n",
    "from keras.layers import Dense, Flatten ,Dropout ,BatchNormalization\n",
    "(x_train, y_train), (x_test, y_test) = mnist.load_data()"
   ]
  },
  {
   "cell_type": "code",
   "execution_count": 17,
   "metadata": {},
   "outputs": [
    {
     "name": "stdout",
     "output_type": "stream",
     "text": [
      "x_train shape (60000, 784)\n",
      "x_test shape (10000, 784)\n"
     ]
    }
   ],
   "source": [
    "print('x_train shape',x_train.shape)\n",
    "print('x_test shape',x_test.shape)"
   ]
  },
  {
   "cell_type": "markdown",
   "metadata": {
    "collapsed": true
   },
   "source": [
    "## Model 1"
   ]
  },
  {
   "cell_type": "code",
   "execution_count": 69,
   "metadata": {},
   "outputs": [
    {
     "name": "stdout",
     "output_type": "stream",
     "text": [
      "Train on 60000 samples, validate on 10000 samples\n",
      "Epoch 1/20\n",
      "60000/60000 [==============================] - 7s 116us/step - loss: 0.4118 - acc: 0.8752 - val_loss: 0.1591 - val_acc: 0.9504\n",
      "Epoch 2/20\n",
      "60000/60000 [==============================] - 5s 88us/step - loss: 0.1952 - acc: 0.9408 - val_loss: 0.1206 - val_acc: 0.9642\n",
      "Epoch 3/20\n",
      "60000/60000 [==============================] - 6s 93us/step - loss: 0.1514 - acc: 0.9535 - val_loss: 0.1007 - val_acc: 0.9701\n",
      "Epoch 4/20\n",
      "60000/60000 [==============================] - 5s 89us/step - loss: 0.1253 - acc: 0.9617 - val_loss: 0.0902 - val_acc: 0.9730\n",
      "Epoch 5/20\n",
      "60000/60000 [==============================] - 5s 87us/step - loss: 0.1089 - acc: 0.9659 - val_loss: 0.0815 - val_acc: 0.9744\n",
      "Epoch 6/20\n",
      "60000/60000 [==============================] - 5s 86us/step - loss: 0.0993 - acc: 0.9689 - val_loss: 0.0817 - val_acc: 0.9751\n",
      "Epoch 7/20\n",
      "60000/60000 [==============================] - 5s 88us/step - loss: 0.0909 - acc: 0.9719 - val_loss: 0.0863 - val_acc: 0.9738\n",
      "Epoch 8/20\n",
      "60000/60000 [==============================] - 5s 85us/step - loss: 0.0867 - acc: 0.9724 - val_loss: 0.0819 - val_acc: 0.9759\n",
      "Epoch 9/20\n",
      "60000/60000 [==============================] - 5s 88us/step - loss: 0.0820 - acc: 0.9736 - val_loss: 0.0796 - val_acc: 0.9779\n",
      "Epoch 10/20\n",
      "60000/60000 [==============================] - 5s 77us/step - loss: 0.0755 - acc: 0.9760 - val_loss: 0.0782 - val_acc: 0.9769\n",
      "Epoch 11/20\n",
      "60000/60000 [==============================] - 5s 78us/step - loss: 0.0703 - acc: 0.9776 - val_loss: 0.0752 - val_acc: 0.9787\n",
      "Epoch 12/20\n",
      "60000/60000 [==============================] - 6s 92us/step - loss: 0.0679 - acc: 0.9779 - val_loss: 0.0767 - val_acc: 0.9787\n",
      "Epoch 13/20\n",
      "60000/60000 [==============================] - 5s 80us/step - loss: 0.0643 - acc: 0.9795 - val_loss: 0.0754 - val_acc: 0.9787\n",
      "Epoch 14/20\n",
      "60000/60000 [==============================] - 6s 107us/step - loss: 0.0614 - acc: 0.9797 - val_loss: 0.0720 - val_acc: 0.9794\n",
      "Epoch 15/20\n",
      "60000/60000 [==============================] - 6s 103us/step - loss: 0.0596 - acc: 0.9803 - val_loss: 0.0738 - val_acc: 0.9788\n",
      "Epoch 16/20\n",
      "60000/60000 [==============================] - 6s 95us/step - loss: 0.0610 - acc: 0.9803 - val_loss: 0.0722 - val_acc: 0.9803\n",
      "Epoch 17/20\n",
      "60000/60000 [==============================] - 8s 132us/step - loss: 0.0547 - acc: 0.9820 - val_loss: 0.0715 - val_acc: 0.9808\n",
      "Epoch 18/20\n",
      "60000/60000 [==============================] - 5s 91us/step - loss: 0.0528 - acc: 0.9822 - val_loss: 0.0664 - val_acc: 0.9816\n",
      "Epoch 19/20\n",
      "60000/60000 [==============================] - 6s 93us/step - loss: 0.0504 - acc: 0.9839 - val_loss: 0.0672 - val_acc: 0.9801\n",
      "Epoch 20/20\n",
      "60000/60000 [==============================] - 5s 82us/step - loss: 0.0501 - acc: 0.9834 - val_loss: 0.0713 - val_acc: 0.9801\n",
      "98.00999999999999\n"
     ]
    }
   ],
   "source": [
    "# Model parameters\n",
    "n_hidden_layer_1 = 128\n",
    "n_hidden_layer_2 = 64\n",
    "n_input = 784\n",
    "n_output = 10\n",
    "batch_size = 100\n",
    "epochs = 20\n",
    "\n",
    "(x_train, y_train), (x_test, y_test) = mnist.load_data()\n",
    "\n",
    "x_train = x_train.reshape(x_train.shape[0],n_input)\n",
    "x_test = x_test.reshape(x_test.shape[0],n_input)\n",
    "\n",
    "y_train = keras.utils.to_categorical(y_train,num_classes=n_output)\n",
    "y_test = keras.utils.to_categorical(y_test, num_classes=n_output)\n",
    "\n",
    "model = Sequential()\n",
    "model.add(Dense(n_hidden_layer_1,activation='relu',input_shape=(n_input,)))\n",
    "model.add(BatchNormalization(momentum=0.99, epsilon=0.001, center=True, scale=True, beta_initializer='zeros', gamma_initializer='ones', moving_mean_initializer='zeros', moving_variance_initializer='ones'))\n",
    "model.add(Dropout(0.25))\n",
    "model.add(Dense(n_hidden_layer_2,activation='relu'))\n",
    "model.add(Dropout(0.2))\n",
    "model.add(Dense(n_output,activation='softmax'))\n",
    "\n",
    "model.compile(loss=keras.losses.categorical_crossentropy,optimizer=keras.optimizers.Adam(),metrics=['accuracy'])\n",
    "\n",
    "history = model.fit(x_train, y_train,batch_size=128, epochs = epochs,validation_data=(x_test,y_test))\n",
    "\n",
    "score = model.evaluate(x_test,y_test,verbose=0)\n",
    "print(score[1]*100)\n"
   ]
  },
  {
   "cell_type": "code",
   "execution_count": 68,
   "metadata": {
    "scrolled": true
   },
   "outputs": [
    {
     "data": {
      "image/png": "[encoded data removed]",
      "text/plain": [
       "<matplotlib.figure.Figure at 0x2685c048>"
      ]
     },
     "metadata": {},
     "output_type": "display_data"
    }
   ],
   "source": [
    "import numpy as np\n",
    "import matplotlib.pyplot as plt\n",
    "n=list(np.arange(0,20,1))\n",
    "\n",
    "plt.plot(n,history.history['loss'],label='train Loss')\n",
    "plt.plot(n,history.history['val_loss'],label='Test Loss')\n",
    "plt.xlabel('epochs')\n",
    "plt.ylabel('loss')\n",
    "plt.legend()\n",
    "plt.show()"
   ]
  },
  {
   "cell_type": "markdown",
   "metadata": {},
   "source": [
    "## Model 2"
   ]
  },
  {
   "cell_type": "code",
   "execution_count": 76,
   "metadata": {
    "scrolled": true
   },
   "outputs": [
    {
     "name": "stdout",
     "output_type": "stream",
     "text": [
      "Train on 60000 samples, validate on 10000 samples\n",
      "Epoch 1/20\n",
      "60000/60000 [==============================] - 7s 124us/step - loss: 0.8186 - acc: 0.7487 - val_loss: 0.2622 - val_acc: 0.9217\n",
      "Epoch 2/20\n",
      "60000/60000 [==============================] - 5s 83us/step - loss: 0.3394 - acc: 0.9034 - val_loss: 0.1958 - val_acc: 0.9426\n",
      "Epoch 3/20\n",
      "60000/60000 [==============================] - 5s 83us/step - loss: 0.2576 - acc: 0.9286 - val_loss: 0.1638 - val_acc: 0.9534\n",
      "Epoch 4/20\n",
      "60000/60000 [==============================] - 5s 82us/step - loss: 0.2094 - acc: 0.9419 - val_loss: 0.1519 - val_acc: 0.9581\n",
      "Epoch 5/20\n",
      "60000/60000 [==============================] - 5s 83us/step - loss: 0.1834 - acc: 0.9489 - val_loss: 0.1323 - val_acc: 0.9628\n",
      "Epoch 6/20\n",
      "60000/60000 [==============================] - 5s 83us/step - loss: 0.1665 - acc: 0.9543 - val_loss: 0.1313 - val_acc: 0.9610\n",
      "Epoch 7/20\n",
      "60000/60000 [==============================] - 5s 84us/step - loss: 0.1526 - acc: 0.9579 - val_loss: 0.1179 - val_acc: 0.9669\n",
      "Epoch 8/20\n",
      "60000/60000 [==============================] - 5s 82us/step - loss: 0.1418 - acc: 0.9611 - val_loss: 0.1291 - val_acc: 0.9639\n",
      "Epoch 9/20\n",
      "60000/60000 [==============================] - 5s 83us/step - loss: 0.1311 - acc: 0.9638 - val_loss: 0.1332 - val_acc: 0.9625\n",
      "Epoch 10/20\n",
      "60000/60000 [==============================] - 5s 85us/step - loss: 0.1218 - acc: 0.9658 - val_loss: 0.1127 - val_acc: 0.9674\n",
      "Epoch 11/20\n",
      "60000/60000 [==============================] - 5s 87us/step - loss: 0.1151 - acc: 0.9680 - val_loss: 0.1240 - val_acc: 0.9653\n",
      "Epoch 12/20\n",
      "60000/60000 [==============================] - 5s 88us/step - loss: 0.1090 - acc: 0.9696 - val_loss: 0.1141 - val_acc: 0.9686\n",
      "Epoch 13/20\n",
      "60000/60000 [==============================] - 5s 87us/step - loss: 0.1054 - acc: 0.9700 - val_loss: 0.1241 - val_acc: 0.9660\n",
      "Epoch 14/20\n",
      "60000/60000 [==============================] - 5s 87us/step - loss: 0.1007 - acc: 0.9713 - val_loss: 0.1139 - val_acc: 0.9684\n",
      "Epoch 15/20\n",
      "60000/60000 [==============================] - 5s 87us/step - loss: 0.0971 - acc: 0.9728 - val_loss: 0.1182 - val_acc: 0.9685\n",
      "Epoch 16/20\n",
      "60000/60000 [==============================] - 5s 86us/step - loss: 0.0920 - acc: 0.9739 - val_loss: 0.1169 - val_acc: 0.9686\n",
      "Epoch 17/20\n",
      "60000/60000 [==============================] - 5s 87us/step - loss: 0.0893 - acc: 0.9753 - val_loss: 0.1202 - val_acc: 0.9680\n",
      "Epoch 18/20\n",
      "60000/60000 [==============================] - 5s 88us/step - loss: 0.0848 - acc: 0.9763 - val_loss: 0.1131 - val_acc: 0.9704\n",
      "Epoch 19/20\n",
      "60000/60000 [==============================] - 5s 87us/step - loss: 0.0830 - acc: 0.9762 - val_loss: 0.1114 - val_acc: 0.9702\n",
      "Epoch 20/20\n",
      "60000/60000 [==============================] - 5s 90us/step - loss: 0.0811 - acc: 0.9767 - val_loss: 0.1181 - val_acc: 0.9706\n",
      "97.06\n"
     ]
    },
    {
     "data": {
      "image/png": "[encoded data removed]",
      "text/plain": [
       "<matplotlib.figure.Figure at 0x3548cf98>"
      ]
     },
     "metadata": {},
     "output_type": "display_data"
    }
   ],
   "source": [
    "# model parameters\n",
    "\n",
    "n_hidden_1 = 32\n",
    "n_hidden_2 = 64\n",
    "n_hidden_3 = 128\n",
    "n_output = 10\n",
    "n_input = 784\n",
    "epochs = 20\n",
    "batch_size = 128\n",
    "\n",
    "(x_train,y_train), (x_test,y_test) = mnist.load_data()\n",
    "x_train = x_train.reshape(x_train.shape[0],784)\n",
    "x_test = x_test.reshape(x_test.shape[0],784)\n",
    "\n",
    "y_train = keras.utils.to_categorical(y_train,num_classes=n_output)\n",
    "y_test = keras.utils.to_categorical(y_test, num_classes=n_output)\n",
    "\n",
    "model = Sequential()\n",
    "model.add(Dense(n_hidden_1,activation='relu',input_shape=(784,)))\n",
    "model.add(Dense(n_hidden_2,activation='relu'))\n",
    "model.add(BatchNormalization(momentum=0.99, epsilon=0.001, center=True, scale=True, beta_initializer='zeros', gamma_initializer='ones', moving_mean_initializer='zeros', moving_variance_initializer='ones'))\n",
    "model.add(Dropout(0.5))\n",
    "model.add(Dense(n_hidden_3,activation='relu'))\n",
    "model.add(BatchNormalization(momentum=0.99, epsilon=0.001, center=True, scale=True, beta_initializer='zeros', gamma_initializer='ones', moving_mean_initializer='zeros', moving_variance_initializer='ones'))\n",
    "model.add(Dropout(0.5))\n",
    "model.add(Dense(n_output,activation='softmax'))\n",
    "model.compile(loss=keras.losses.categorical_crossentropy,optimizer=keras.optimizers.Adam(),metrics=['accuracy'])\n",
    "history=model.fit(x_train, y_train,batch_size=128, epochs = epochs,validation_data=(x_test,y_test))\n",
    "\n",
    "score = model.evaluate(x_test,y_test,verbose=0)\n",
    "print(score[1]*100)\n",
    "n=list(np.arange(0,20,1))\n",
    "\n",
    "plt.plot(n,history.history['loss'],label='train Loss')\n",
    "plt.plot(n,history.history['val_loss'],label='Test Loss')\n",
    "plt.xlabel('epochs')\n",
    "plt.ylabel('loss')\n",
    "plt.legend()\n",
    "plt.show()\n"
   ]
  },
  {
   "cell_type": "markdown",
   "metadata": {},
   "source": [
    "## Model 3"
   ]
  },
  {
   "cell_type": "code",
   "execution_count": 78,
   "metadata": {},
   "outputs": [
    {
     "name": "stdout",
     "output_type": "stream",
     "text": [
      "Train on 60000 samples, validate on 10000 samples\n",
      "Epoch 1/20\n",
      "60000/60000 [==============================] - 7s 121us/step - loss: 2.1784 - acc: 0.1664 - val_loss: 1.9464 - val_acc: 0.2103\n",
      "Epoch 2/20\n",
      "60000/60000 [==============================] - 4s 70us/step - loss: 1.9878 - acc: 0.1961 - val_loss: 1.8635 - val_acc: 0.2402\n",
      "Epoch 3/20\n",
      "60000/60000 [==============================] - 4s 69us/step - loss: 1.9131 - acc: 0.2189 - val_loss: 1.8177 - val_acc: 0.2727\n",
      "Epoch 4/20\n",
      "60000/60000 [==============================] - 4s 71us/step - loss: 1.8795 - acc: 0.2381 - val_loss: 1.7692 - val_acc: 0.3112\n",
      "Epoch 5/20\n",
      "60000/60000 [==============================] - 4s 69us/step - loss: 1.8278 - acc: 0.2618 - val_loss: 1.7789 - val_acc: 0.2942\n",
      "Epoch 6/20\n",
      "60000/60000 [==============================] - 4s 70us/step - loss: 1.7677 - acc: 0.2778 - val_loss: 1.5821 - val_acc: 0.3336\n",
      "Epoch 7/20\n",
      "60000/60000 [==============================] - 4s 70us/step - loss: 1.7349 - acc: 0.2834 - val_loss: 1.5306 - val_acc: 0.3693\n",
      "Epoch 8/20\n",
      "60000/60000 [==============================] - 4s 70us/step - loss: 1.7121 - acc: 0.2892 - val_loss: 1.5160 - val_acc: 0.3824: 1.7133 - acc: 0\n",
      "Epoch 9/20\n",
      "60000/60000 [==============================] - 4s 70us/step - loss: 1.7028 - acc: 0.2921 - val_loss: 1.5079 - val_acc: 0.3787\n",
      "Epoch 10/20\n",
      "60000/60000 [==============================] - 4s 71us/step - loss: 1.6900 - acc: 0.2969 - val_loss: 1.5080 - val_acc: 0.4113\n",
      "Epoch 11/20\n",
      "60000/60000 [==============================] - 4s 72us/step - loss: 1.6776 - acc: 0.3107 - val_loss: 1.4898 - val_acc: 0.3971\n",
      "Epoch 12/20\n",
      "60000/60000 [==============================] - 4s 73us/step - loss: 1.6629 - acc: 0.3173 - val_loss: 1.4843 - val_acc: 0.4321\n",
      "Epoch 13/20\n",
      "60000/60000 [==============================] - 4s 72us/step - loss: 1.6592 - acc: 0.3187 - val_loss: 1.5370 - val_acc: 0.3946\n",
      "Epoch 14/20\n",
      "60000/60000 [==============================] - 4s 73us/step - loss: 1.6548 - acc: 0.3208 - val_loss: 1.4547 - val_acc: 0.4478\n",
      "Epoch 15/20\n",
      "60000/60000 [==============================] - 4s 73us/step - loss: 1.6503 - acc: 0.3268 - val_loss: 1.6387 - val_acc: 0.3459\n",
      "Epoch 16/20\n",
      "60000/60000 [==============================] - 4s 72us/step - loss: 1.6467 - acc: 0.3303 - val_loss: 1.4441 - val_acc: 0.4526\n",
      "Epoch 17/20\n",
      "60000/60000 [==============================] - 4s 73us/step - loss: 1.6388 - acc: 0.3321 - val_loss: 1.4362 - val_acc: 0.4559\n",
      "Epoch 18/20\n",
      "60000/60000 [==============================] - 4s 72us/step - loss: 1.6385 - acc: 0.3337 - val_loss: 1.4280 - val_acc: 0.4488\n",
      "Epoch 19/20\n",
      "60000/60000 [==============================] - 4s 73us/step - loss: 1.6424 - acc: 0.3330 - val_loss: 1.4294 - val_acc: 0.4608\n",
      "Epoch 20/20\n",
      "60000/60000 [==============================] - 4s 73us/step - loss: 1.6367 - acc: 0.3327 - val_loss: 1.4262 - val_acc: 0.4574\n",
      "45.739999999999995\n"
     ]
    },
    {
     "data": {
      "image/png": "[encoded data removed]",
      "text/plain": [
       "<matplotlib.figure.Figure at 0x3749d668>"
      ]
     },
     "metadata": {},
     "output_type": "display_data"
    }
   ],
   "source": [
    "n_hidden_1 = 2\n",
    "n_hidden_2 = 64\n",
    "n_hidden_3 = 5\n",
    "n_hidden_4 = 10\n",
    "n_hidden_5 =2\n",
    "n_output = 10\n",
    "n_input = 784\n",
    "epochs = 20\n",
    "batch_size = 128\n",
    "\n",
    "(x_train,y_train), (x_test,y_test) = mnist.load_data()\n",
    "x_train = x_train.reshape(x_train.shape[0],784)\n",
    "x_test = x_test.reshape(x_test.shape[0],784)\n",
    "\n",
    "y_train = keras.utils.to_categorical(y_train,num_classes=n_output)\n",
    "y_test = keras.utils.to_categorical(y_test, num_classes=n_output)\n",
    "\n",
    "model = Sequential()\n",
    "model.add(Dense(n_hidden_1,activation='relu',input_shape=(784,)))\n",
    "model.add(Dense(n_hidden_2,activation='relu'))\n",
    "model.add(BatchNormalization(momentum=0.99, epsilon=0.001, center=True, scale=True, beta_initializer='zeros', gamma_initializer='ones', moving_mean_initializer='zeros', moving_variance_initializer='ones'))\n",
    "model.add(Dropout(0.5))\n",
    "model.add(Dense(n_hidden_3,activation='relu'))\n",
    "model.add(Dense(n_hidden_4,activation='relu'))\n",
    "model.add(BatchNormalization(momentum=0.99, epsilon=0.001, center=True, scale=True, beta_initializer='zeros', gamma_initializer='ones', moving_mean_initializer='zeros', moving_variance_initializer='ones'))\n",
    "model.add(Dropout(0.6))\n",
    "model.add(Dense(n_hidden_5,activation='relu'))\n",
    "model.add(BatchNormalization(momentum=0.99, epsilon=0.001, center=True, scale=True, beta_initializer='zeros', gamma_initializer='ones', moving_mean_initializer='zeros', moving_variance_initializer='ones'))\n",
    "model.add(Dropout(0.2))\n",
    "model.add(Dense(n_output,activation='softmax'))\n",
    "model.compile(loss=keras.losses.categorical_crossentropy,optimizer=keras.optimizers.Adam(),metrics=['accuracy'])\n",
    "history=model.fit(x_train, y_train,batch_size=128, epochs = epochs,validation_data=(x_test,y_test))\n",
    "\n",
    "score = model.evaluate(x_test,y_test,verbose=0)\n",
    "print(score[1]*100)\n",
    "\n",
    "n=list(np.arange(0,20,1))\n",
    "\n",
    "plt.plot(n,history.history['loss'],label='train Loss')\n",
    "plt.plot(n,history.history['val_loss'],label='Test Loss')\n",
    "plt.xlabel('epochs')\n",
    "plt.ylabel('loss')\n",
    "plt.legend()\n",
    "plt.show()\n"
   ]
  },
  {
   "cell_type": "code",
   "execution_count": null,
   "metadata": {
    "collapsed": true
   },
   "outputs": [],
   "source": []
  }
 ],
 "metadata": {
  "kernelspec": {
   "display_name": "Python 3",
   "language": "python",
   "name": "python3"
  },
  "language_info": {
   "codemirror_mode": {
    "name": "ipython",
    "version": 3
   },
   "file_extension": ".py",
   "mimetype": "text/x-python",
   "name": "python",
   "nbconvert_exporter": "python",
   "pygments_lexer": "ipython3",
   "version": "3.6.3"
  }
 },
 "nbformat": 4,
 "nbformat_minor": 2
}
